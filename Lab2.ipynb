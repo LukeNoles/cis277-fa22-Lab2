{
  "cells": [
    {
      "cell_type": "markdown",
      "metadata": {},
      "source": [
        "# Lab 2 - Exploratory Data Analysis"
      ]
    },
    {
      "cell_type": "code",
      "execution_count": 1,
      "metadata": {
        "id": "gIWe8vk2fPX7"
      },
      "outputs": [],
      "source": [
        "import pandas as pd"
      ]
    },
    {
      "cell_type": "markdown",
      "metadata": {
        "id": "4N0ty0ecrWcn"
      },
      "source": [
        "## 1. Import Data"
      ]
    },
    {
      "cell_type": "code",
      "execution_count": 2,
      "metadata": {
        "id": "qY7nb0rAgWrr"
      },
      "outputs": [],
      "source": [
        "df = pd.read_csv('imdb-videogames.csv')"
      ]
    },
    {
      "cell_type": "markdown",
      "metadata": {},
      "source": [
        "This creates a dataframe using the csv."
      ]
    },
    {
      "cell_type": "markdown",
      "metadata": {
        "id": "4titwvhQri0o"
      },
      "source": [
        "## 2. Inspect a Portion of the Dataset"
      ]
    },
    {
      "cell_type": "code",
      "execution_count": 3,
      "metadata": {
        "colab": {
          "base_uri": "https://localhost:8080/",
          "height": 359
        },
        "id": "eIkZ2SBehFrY",
        "outputId": "8952e428-b938-4933-b581-9be7ddf2cdea"
      },
      "outputs": [
        {
          "data": {
            "text/html": [
              "<div>\n",
              "<style scoped>\n",
              "    .dataframe tbody tr th:only-of-type {\n",
              "        vertical-align: middle;\n",
              "    }\n",
              "\n",
              "    .dataframe tbody tr th {\n",
              "        vertical-align: top;\n",
              "    }\n",
              "\n",
              "    .dataframe thead th {\n",
              "        text-align: right;\n",
              "    }\n",
              "</style>\n",
              "<table border=\"1\" class=\"dataframe\">\n",
              "  <thead>\n",
              "    <tr style=\"text-align: right;\">\n",
              "      <th></th>\n",
              "      <th>Unnamed: 0</th>\n",
              "      <th>name</th>\n",
              "      <th>url</th>\n",
              "      <th>year</th>\n",
              "      <th>certificate</th>\n",
              "      <th>rating</th>\n",
              "      <th>votes</th>\n",
              "      <th>plot summary</th>\n",
              "      <th>Action</th>\n",
              "      <th>Adventure</th>\n",
              "      <th>Comedy</th>\n",
              "      <th>Crime</th>\n",
              "      <th>Family</th>\n",
              "      <th>Fantasy</th>\n",
              "      <th>Mystery</th>\n",
              "      <th>Sci-Fi</th>\n",
              "      <th>Thriller</th>\n",
              "    </tr>\n",
              "  </thead>\n",
              "  <tbody>\n",
              "    <tr>\n",
              "      <th>0</th>\n",
              "      <td>0</td>\n",
              "      <td>Spider-Man</td>\n",
              "      <td>https://www.imdb.com/title/tt5807780/?ref_=adv...</td>\n",
              "      <td>2018.0</td>\n",
              "      <td>T</td>\n",
              "      <td>9.2</td>\n",
              "      <td>20,759</td>\n",
              "      <td>When a new villain threatens New York City, Pe...</td>\n",
              "      <td>True</td>\n",
              "      <td>True</td>\n",
              "      <td>False</td>\n",
              "      <td>False</td>\n",
              "      <td>False</td>\n",
              "      <td>True</td>\n",
              "      <td>False</td>\n",
              "      <td>False</td>\n",
              "      <td>False</td>\n",
              "    </tr>\n",
              "    <tr>\n",
              "      <th>1</th>\n",
              "      <td>1</td>\n",
              "      <td>Red Dead Redemption II</td>\n",
              "      <td>https://www.imdb.com/title/tt6161168/?ref_=adv...</td>\n",
              "      <td>2018.0</td>\n",
              "      <td>M</td>\n",
              "      <td>9.7</td>\n",
              "      <td>35,703</td>\n",
              "      <td>Amidst the decline of the Wild West at the tur...</td>\n",
              "      <td>True</td>\n",
              "      <td>True</td>\n",
              "      <td>False</td>\n",
              "      <td>True</td>\n",
              "      <td>False</td>\n",
              "      <td>False</td>\n",
              "      <td>False</td>\n",
              "      <td>False</td>\n",
              "      <td>False</td>\n",
              "    </tr>\n",
              "    <tr>\n",
              "      <th>2</th>\n",
              "      <td>2</td>\n",
              "      <td>Grand Theft Auto V</td>\n",
              "      <td>https://www.imdb.com/title/tt2103188/?ref_=adv...</td>\n",
              "      <td>2013.0</td>\n",
              "      <td>M</td>\n",
              "      <td>9.5</td>\n",
              "      <td>59,986</td>\n",
              "      <td>Three very different criminals team up for a s...</td>\n",
              "      <td>True</td>\n",
              "      <td>False</td>\n",
              "      <td>False</td>\n",
              "      <td>True</td>\n",
              "      <td>False</td>\n",
              "      <td>False</td>\n",
              "      <td>False</td>\n",
              "      <td>False</td>\n",
              "      <td>False</td>\n",
              "    </tr>\n",
              "    <tr>\n",
              "      <th>3</th>\n",
              "      <td>3</td>\n",
              "      <td>God of War</td>\n",
              "      <td>https://www.imdb.com/title/tt5838588/?ref_=adv...</td>\n",
              "      <td>2018.0</td>\n",
              "      <td>M</td>\n",
              "      <td>9.6</td>\n",
              "      <td>26,118</td>\n",
              "      <td>After wiping out the gods of Mount Olympus, Kr...</td>\n",
              "      <td>True</td>\n",
              "      <td>True</td>\n",
              "      <td>False</td>\n",
              "      <td>False</td>\n",
              "      <td>False</td>\n",
              "      <td>False</td>\n",
              "      <td>False</td>\n",
              "      <td>False</td>\n",
              "      <td>False</td>\n",
              "    </tr>\n",
              "    <tr>\n",
              "      <th>4</th>\n",
              "      <td>4</td>\n",
              "      <td>Uncharted 4: A Thief's End</td>\n",
              "      <td>https://www.imdb.com/title/tt3334704/?ref_=adv...</td>\n",
              "      <td>2016.0</td>\n",
              "      <td>T</td>\n",
              "      <td>9.5</td>\n",
              "      <td>28,722</td>\n",
              "      <td>Thrown back into the dangerous underworld he'd...</td>\n",
              "      <td>True</td>\n",
              "      <td>True</td>\n",
              "      <td>False</td>\n",
              "      <td>False</td>\n",
              "      <td>False</td>\n",
              "      <td>False</td>\n",
              "      <td>False</td>\n",
              "      <td>False</td>\n",
              "      <td>False</td>\n",
              "    </tr>\n",
              "  </tbody>\n",
              "</table>\n",
              "</div>"
            ],
            "text/plain": [
              "   Unnamed: 0                        name  \\\n",
              "0           0                  Spider-Man   \n",
              "1           1      Red Dead Redemption II   \n",
              "2           2          Grand Theft Auto V   \n",
              "3           3                  God of War   \n",
              "4           4  Uncharted 4: A Thief's End   \n",
              "\n",
              "                                                 url    year certificate  \\\n",
              "0  https://www.imdb.com/title/tt5807780/?ref_=adv...  2018.0           T   \n",
              "1  https://www.imdb.com/title/tt6161168/?ref_=adv...  2018.0           M   \n",
              "2  https://www.imdb.com/title/tt2103188/?ref_=adv...  2013.0           M   \n",
              "3  https://www.imdb.com/title/tt5838588/?ref_=adv...  2018.0           M   \n",
              "4  https://www.imdb.com/title/tt3334704/?ref_=adv...  2016.0           T   \n",
              "\n",
              "  rating   votes                                       plot summary  Action  \\\n",
              "0    9.2  20,759  When a new villain threatens New York City, Pe...    True   \n",
              "1    9.7  35,703  Amidst the decline of the Wild West at the tur...    True   \n",
              "2    9.5  59,986  Three very different criminals team up for a s...    True   \n",
              "3    9.6  26,118  After wiping out the gods of Mount Olympus, Kr...    True   \n",
              "4    9.5  28,722  Thrown back into the dangerous underworld he'd...    True   \n",
              "\n",
              "   Adventure  Comedy  Crime  Family  Fantasy  Mystery  Sci-Fi  Thriller  \n",
              "0       True   False  False   False     True    False   False     False  \n",
              "1       True   False   True   False    False    False   False     False  \n",
              "2      False   False   True   False    False    False   False     False  \n",
              "3       True   False  False   False    False    False   False     False  \n",
              "4       True   False  False   False    False    False   False     False  "
            ]
          },
          "execution_count": 3,
          "metadata": {},
          "output_type": "execute_result"
        }
      ],
      "source": [
        "df.head()"
      ]
    },
    {
      "cell_type": "code",
      "execution_count": 4,
      "metadata": {
        "colab": {
          "base_uri": "https://localhost:8080/",
          "height": 359
        },
        "id": "_GK64h3eydeJ",
        "outputId": "799d5467-32e7-4dcb-b502-1db9f018cfd0"
      },
      "outputs": [
        {
          "data": {
            "text/html": [
              "<div>\n",
              "<style scoped>\n",
              "    .dataframe tbody tr th:only-of-type {\n",
              "        vertical-align: middle;\n",
              "    }\n",
              "\n",
              "    .dataframe tbody tr th {\n",
              "        vertical-align: top;\n",
              "    }\n",
              "\n",
              "    .dataframe thead th {\n",
              "        text-align: right;\n",
              "    }\n",
              "</style>\n",
              "<table border=\"1\" class=\"dataframe\">\n",
              "  <thead>\n",
              "    <tr style=\"text-align: right;\">\n",
              "      <th></th>\n",
              "      <th>Unnamed: 0</th>\n",
              "      <th>name</th>\n",
              "      <th>url</th>\n",
              "      <th>year</th>\n",
              "      <th>certificate</th>\n",
              "      <th>rating</th>\n",
              "      <th>votes</th>\n",
              "      <th>plot summary</th>\n",
              "      <th>Action</th>\n",
              "      <th>Adventure</th>\n",
              "      <th>Comedy</th>\n",
              "      <th>Crime</th>\n",
              "      <th>Family</th>\n",
              "      <th>Fantasy</th>\n",
              "      <th>Mystery</th>\n",
              "      <th>Sci-Fi</th>\n",
              "      <th>Thriller</th>\n",
              "    </tr>\n",
              "  </thead>\n",
              "  <tbody>\n",
              "    <tr>\n",
              "      <th>20795</th>\n",
              "      <td>20793</td>\n",
              "      <td>Boku wa kyoumo kimi o korosu</td>\n",
              "      <td>https://www.imdb.com/title/tt6010652/?ref_=adv...</td>\n",
              "      <td>2016.0</td>\n",
              "      <td>NaN</td>\n",
              "      <td>NaN</td>\n",
              "      <td>NaN</td>\n",
              "      <td>Add a Plot</td>\n",
              "      <td>False</td>\n",
              "      <td>False</td>\n",
              "      <td>False</td>\n",
              "      <td>False</td>\n",
              "      <td>False</td>\n",
              "      <td>False</td>\n",
              "      <td>False</td>\n",
              "      <td>False</td>\n",
              "      <td>True</td>\n",
              "    </tr>\n",
              "    <tr>\n",
              "      <th>20796</th>\n",
              "      <td>20794</td>\n",
              "      <td>Find Me Event</td>\n",
              "      <td>https://www.imdb.com/title/tt2619050/?ref_=adv...</td>\n",
              "      <td>2011.0</td>\n",
              "      <td>NaN</td>\n",
              "      <td>NaN</td>\n",
              "      <td>NaN</td>\n",
              "      <td>Days after being kidnapped and tortured, Denni...</td>\n",
              "      <td>False</td>\n",
              "      <td>False</td>\n",
              "      <td>False</td>\n",
              "      <td>False</td>\n",
              "      <td>False</td>\n",
              "      <td>False</td>\n",
              "      <td>False</td>\n",
              "      <td>False</td>\n",
              "      <td>True</td>\n",
              "    </tr>\n",
              "    <tr>\n",
              "      <th>20797</th>\n",
              "      <td>20795</td>\n",
              "      <td>Spooks</td>\n",
              "      <td>https://www.imdb.com/title/tt4965776/?ref_=adv...</td>\n",
              "      <td>2017.0</td>\n",
              "      <td>NaN</td>\n",
              "      <td>NaN</td>\n",
              "      <td>NaN</td>\n",
              "      <td>Add a Plot</td>\n",
              "      <td>False</td>\n",
              "      <td>False</td>\n",
              "      <td>False</td>\n",
              "      <td>False</td>\n",
              "      <td>False</td>\n",
              "      <td>False</td>\n",
              "      <td>False</td>\n",
              "      <td>False</td>\n",
              "      <td>True</td>\n",
              "    </tr>\n",
              "    <tr>\n",
              "      <th>20798</th>\n",
              "      <td>20796</td>\n",
              "      <td>Bite Marks</td>\n",
              "      <td>https://www.imdb.com/title/tt2797224/?ref_=adv...</td>\n",
              "      <td>2012.0</td>\n",
              "      <td>NaN</td>\n",
              "      <td>NaN</td>\n",
              "      <td>NaN</td>\n",
              "      <td>A demonologist gets in over his head while mak...</td>\n",
              "      <td>False</td>\n",
              "      <td>False</td>\n",
              "      <td>False</td>\n",
              "      <td>False</td>\n",
              "      <td>False</td>\n",
              "      <td>False</td>\n",
              "      <td>False</td>\n",
              "      <td>False</td>\n",
              "      <td>False</td>\n",
              "    </tr>\n",
              "    <tr>\n",
              "      <th>20799</th>\n",
              "      <td>20797</td>\n",
              "      <td>Requiem</td>\n",
              "      <td>https://www.imdb.com/title/tt4396968/?ref_=adv...</td>\n",
              "      <td>2016.0</td>\n",
              "      <td>NaN</td>\n",
              "      <td>NaN</td>\n",
              "      <td>NaN</td>\n",
              "      <td>Add a Plot</td>\n",
              "      <td>False</td>\n",
              "      <td>False</td>\n",
              "      <td>False</td>\n",
              "      <td>False</td>\n",
              "      <td>False</td>\n",
              "      <td>False</td>\n",
              "      <td>False</td>\n",
              "      <td>False</td>\n",
              "      <td>True</td>\n",
              "    </tr>\n",
              "    <tr>\n",
              "      <th>20800</th>\n",
              "      <td>20798</td>\n",
              "      <td>Enjoy Your Power, Enjoy Your Choice</td>\n",
              "      <td>https://www.imdb.com/title/tt3845606/?ref_=adv...</td>\n",
              "      <td>2014.0</td>\n",
              "      <td>NaN</td>\n",
              "      <td>NaN</td>\n",
              "      <td>NaN</td>\n",
              "      <td>Add a Plot</td>\n",
              "      <td>False</td>\n",
              "      <td>False</td>\n",
              "      <td>False</td>\n",
              "      <td>False</td>\n",
              "      <td>False</td>\n",
              "      <td>False</td>\n",
              "      <td>False</td>\n",
              "      <td>False</td>\n",
              "      <td>True</td>\n",
              "    </tr>\n",
              "    <tr>\n",
              "      <th>20801</th>\n",
              "      <td>20799</td>\n",
              "      <td>RedSun2020</td>\n",
              "      <td>https://www.imdb.com/title/tt0790739/?ref_=adv...</td>\n",
              "      <td>2004.0</td>\n",
              "      <td>NaN</td>\n",
              "      <td>NaN</td>\n",
              "      <td>NaN</td>\n",
              "      <td>Joseph gets kidnapped and it's the player's jo...</td>\n",
              "      <td>False</td>\n",
              "      <td>False</td>\n",
              "      <td>False</td>\n",
              "      <td>False</td>\n",
              "      <td>False</td>\n",
              "      <td>False</td>\n",
              "      <td>False</td>\n",
              "      <td>False</td>\n",
              "      <td>True</td>\n",
              "    </tr>\n",
              "    <tr>\n",
              "      <th>20802</th>\n",
              "      <td>20800</td>\n",
              "      <td>Shutter</td>\n",
              "      <td>https://www.imdb.com/title/tt5119948/?ref_=adv...</td>\n",
              "      <td>2015.0</td>\n",
              "      <td>NaN</td>\n",
              "      <td>NaN</td>\n",
              "      <td>NaN</td>\n",
              "      <td>A tech support man who uses a drone to investi...</td>\n",
              "      <td>False</td>\n",
              "      <td>False</td>\n",
              "      <td>False</td>\n",
              "      <td>False</td>\n",
              "      <td>False</td>\n",
              "      <td>False</td>\n",
              "      <td>False</td>\n",
              "      <td>False</td>\n",
              "      <td>True</td>\n",
              "    </tr>\n",
              "    <tr>\n",
              "      <th>20803</th>\n",
              "      <td>20801</td>\n",
              "      <td>The Music Machine</td>\n",
              "      <td>https://www.imdb.com/title/tt5142082/?ref_=adv...</td>\n",
              "      <td>2015.0</td>\n",
              "      <td>NaN</td>\n",
              "      <td>NaN</td>\n",
              "      <td>NaN</td>\n",
              "      <td>A young teenage girl and the ghost of a dead m...</td>\n",
              "      <td>False</td>\n",
              "      <td>False</td>\n",
              "      <td>False</td>\n",
              "      <td>False</td>\n",
              "      <td>False</td>\n",
              "      <td>False</td>\n",
              "      <td>False</td>\n",
              "      <td>False</td>\n",
              "      <td>True</td>\n",
              "    </tr>\n",
              "    <tr>\n",
              "      <th>20804</th>\n",
              "      <td>20802</td>\n",
              "      <td>Cryptic</td>\n",
              "      <td>https://www.imdb.com/title/tt10964974/?ref_=ad...</td>\n",
              "      <td>2020.0</td>\n",
              "      <td>NaN</td>\n",
              "      <td>NaN</td>\n",
              "      <td>NaN</td>\n",
              "      <td>Kidnapped by an insane man and dragged into a ...</td>\n",
              "      <td>False</td>\n",
              "      <td>False</td>\n",
              "      <td>False</td>\n",
              "      <td>False</td>\n",
              "      <td>False</td>\n",
              "      <td>False</td>\n",
              "      <td>False</td>\n",
              "      <td>False</td>\n",
              "      <td>True</td>\n",
              "    </tr>\n",
              "  </tbody>\n",
              "</table>\n",
              "</div>"
            ],
            "text/plain": [
              "       Unnamed: 0                                 name  \\\n",
              "20795       20793         Boku wa kyoumo kimi o korosu   \n",
              "20796       20794                        Find Me Event   \n",
              "20797       20795                               Spooks   \n",
              "20798       20796                           Bite Marks   \n",
              "20799       20797                              Requiem   \n",
              "20800       20798  Enjoy Your Power, Enjoy Your Choice   \n",
              "20801       20799                           RedSun2020   \n",
              "20802       20800                              Shutter   \n",
              "20803       20801                    The Music Machine   \n",
              "20804       20802                              Cryptic   \n",
              "\n",
              "                                                     url    year certificate  \\\n",
              "20795  https://www.imdb.com/title/tt6010652/?ref_=adv...  2016.0         NaN   \n",
              "20796  https://www.imdb.com/title/tt2619050/?ref_=adv...  2011.0         NaN   \n",
              "20797  https://www.imdb.com/title/tt4965776/?ref_=adv...  2017.0         NaN   \n",
              "20798  https://www.imdb.com/title/tt2797224/?ref_=adv...  2012.0         NaN   \n",
              "20799  https://www.imdb.com/title/tt4396968/?ref_=adv...  2016.0         NaN   \n",
              "20800  https://www.imdb.com/title/tt3845606/?ref_=adv...  2014.0         NaN   \n",
              "20801  https://www.imdb.com/title/tt0790739/?ref_=adv...  2004.0         NaN   \n",
              "20802  https://www.imdb.com/title/tt5119948/?ref_=adv...  2015.0         NaN   \n",
              "20803  https://www.imdb.com/title/tt5142082/?ref_=adv...  2015.0         NaN   \n",
              "20804  https://www.imdb.com/title/tt10964974/?ref_=ad...  2020.0         NaN   \n",
              "\n",
              "      rating votes                                       plot summary  Action  \\\n",
              "20795    NaN   NaN                                         Add a Plot   False   \n",
              "20796    NaN   NaN  Days after being kidnapped and tortured, Denni...   False   \n",
              "20797    NaN   NaN                                         Add a Plot   False   \n",
              "20798    NaN   NaN  A demonologist gets in over his head while mak...   False   \n",
              "20799    NaN   NaN                                         Add a Plot   False   \n",
              "20800    NaN   NaN                                         Add a Plot   False   \n",
              "20801    NaN   NaN  Joseph gets kidnapped and it's the player's jo...   False   \n",
              "20802    NaN   NaN  A tech support man who uses a drone to investi...   False   \n",
              "20803    NaN   NaN  A young teenage girl and the ghost of a dead m...   False   \n",
              "20804    NaN   NaN  Kidnapped by an insane man and dragged into a ...   False   \n",
              "\n",
              "       Adventure  Comedy  Crime  Family  Fantasy  Mystery  Sci-Fi  Thriller  \n",
              "20795      False   False  False   False    False    False   False      True  \n",
              "20796      False   False  False   False    False    False   False      True  \n",
              "20797      False   False  False   False    False    False   False      True  \n",
              "20798      False   False  False   False    False    False   False     False  \n",
              "20799      False   False  False   False    False    False   False      True  \n",
              "20800      False   False  False   False    False    False   False      True  \n",
              "20801      False   False  False   False    False    False   False      True  \n",
              "20802      False   False  False   False    False    False   False      True  \n",
              "20803      False   False  False   False    False    False   False      True  \n",
              "20804      False   False  False   False    False    False   False      True  "
            ]
          },
          "execution_count": 4,
          "metadata": {},
          "output_type": "execute_result"
        }
      ],
      "source": [
        "df.tail(10)"
      ]
    },
    {
      "cell_type": "markdown",
      "metadata": {},
      "source": [
        "This is to get a closer look at portions of the dataframe."
      ]
    },
    {
      "cell_type": "markdown",
      "metadata": {
        "id": "AoN1t0yTr3vt"
      },
      "source": [
        "## 3. Shape and Basic Info about the Dataset"
      ]
    },
    {
      "cell_type": "code",
      "execution_count": 5,
      "metadata": {
        "colab": {
          "base_uri": "https://localhost:8080/"
        },
        "id": "eR6x6BUwhptZ",
        "outputId": "e2b94951-3d5d-47bf-e3e4-c5c571d2d879"
      },
      "outputs": [
        {
          "data": {
            "text/plain": [
              "(20805, 17)"
            ]
          },
          "execution_count": 5,
          "metadata": {},
          "output_type": "execute_result"
        }
      ],
      "source": [
        "df.shape"
      ]
    },
    {
      "cell_type": "code",
      "execution_count": 6,
      "metadata": {
        "colab": {
          "base_uri": "https://localhost:8080/"
        },
        "id": "kx4xO7-biEGK",
        "outputId": "a5d0a366-f1eb-46e6-a56b-59699a4d9fad"
      },
      "outputs": [
        {
          "name": "stdout",
          "output_type": "stream",
          "text": [
            "<class 'pandas.core.frame.DataFrame'>\n",
            "RangeIndex: 20805 entries, 0 to 20804\n",
            "Data columns (total 17 columns):\n",
            " #   Column        Non-Null Count  Dtype  \n",
            "---  ------        --------------  -----  \n",
            " 0   Unnamed: 0    20805 non-null  int64  \n",
            " 1   name          20805 non-null  object \n",
            " 2   url           20805 non-null  object \n",
            " 3   year          20538 non-null  float64\n",
            " 4   certificate   7905 non-null   object \n",
            " 5   rating        11602 non-null  object \n",
            " 6   votes         11602 non-null  object \n",
            " 7   plot summary  20805 non-null  object \n",
            " 8   Action        20805 non-null  bool   \n",
            " 9   Adventure     20805 non-null  bool   \n",
            " 10  Comedy        20805 non-null  bool   \n",
            " 11  Crime         20805 non-null  bool   \n",
            " 12  Family        20805 non-null  bool   \n",
            " 13  Fantasy       20805 non-null  bool   \n",
            " 14  Mystery       20805 non-null  bool   \n",
            " 15  Sci-Fi        20805 non-null  bool   \n",
            " 16  Thriller      20805 non-null  bool   \n",
            "dtypes: bool(9), float64(1), int64(1), object(6)\n",
            "memory usage: 1.4+ MB\n"
          ]
        }
      ],
      "source": [
        "df.info()"
      ]
    },
    {
      "cell_type": "code",
      "execution_count": 7,
      "metadata": {},
      "outputs": [
        {
          "data": {
            "text/html": [
              "<div>\n",
              "<style scoped>\n",
              "    .dataframe tbody tr th:only-of-type {\n",
              "        vertical-align: middle;\n",
              "    }\n",
              "\n",
              "    .dataframe tbody tr th {\n",
              "        vertical-align: top;\n",
              "    }\n",
              "\n",
              "    .dataframe thead th {\n",
              "        text-align: right;\n",
              "    }\n",
              "</style>\n",
              "<table border=\"1\" class=\"dataframe\">\n",
              "  <thead>\n",
              "    <tr style=\"text-align: right;\">\n",
              "      <th></th>\n",
              "      <th>Unnamed: 0</th>\n",
              "      <th>year</th>\n",
              "    </tr>\n",
              "  </thead>\n",
              "  <tbody>\n",
              "    <tr>\n",
              "      <th>count</th>\n",
              "      <td>20805.000000</td>\n",
              "      <td>20538.000000</td>\n",
              "    </tr>\n",
              "    <tr>\n",
              "      <th>mean</th>\n",
              "      <td>10400.066667</td>\n",
              "      <td>2005.567485</td>\n",
              "    </tr>\n",
              "    <tr>\n",
              "      <th>std</th>\n",
              "      <td>6005.918897</td>\n",
              "      <td>11.846001</td>\n",
              "    </tr>\n",
              "    <tr>\n",
              "      <th>min</th>\n",
              "      <td>0.000000</td>\n",
              "      <td>1952.000000</td>\n",
              "    </tr>\n",
              "    <tr>\n",
              "      <th>25%</th>\n",
              "      <td>5199.000000</td>\n",
              "      <td>1997.000000</td>\n",
              "    </tr>\n",
              "    <tr>\n",
              "      <th>50%</th>\n",
              "      <td>10400.000000</td>\n",
              "      <td>2008.000000</td>\n",
              "    </tr>\n",
              "    <tr>\n",
              "      <th>75%</th>\n",
              "      <td>15601.000000</td>\n",
              "      <td>2016.000000</td>\n",
              "    </tr>\n",
              "    <tr>\n",
              "      <th>max</th>\n",
              "      <td>20802.000000</td>\n",
              "      <td>2027.000000</td>\n",
              "    </tr>\n",
              "  </tbody>\n",
              "</table>\n",
              "</div>"
            ],
            "text/plain": [
              "         Unnamed: 0          year\n",
              "count  20805.000000  20538.000000\n",
              "mean   10400.066667   2005.567485\n",
              "std     6005.918897     11.846001\n",
              "min        0.000000   1952.000000\n",
              "25%     5199.000000   1997.000000\n",
              "50%    10400.000000   2008.000000\n",
              "75%    15601.000000   2016.000000\n",
              "max    20802.000000   2027.000000"
            ]
          },
          "execution_count": 7,
          "metadata": {},
          "output_type": "execute_result"
        }
      ],
      "source": [
        "df.describe()"
      ]
    },
    {
      "cell_type": "markdown",
      "metadata": {},
      "source": [
        "This gives us a simple overview of the dataframe."
      ]
    },
    {
      "cell_type": "markdown",
      "metadata": {
        "id": "8qYR0y0MsDz_"
      },
      "source": [
        "## 4. Look for Duplicates"
      ]
    },
    {
      "cell_type": "code",
      "execution_count": 8,
      "metadata": {},
      "outputs": [
        {
          "data": {
            "text/plain": [
              "2"
            ]
          },
          "execution_count": 8,
          "metadata": {},
          "output_type": "execute_result"
        }
      ],
      "source": [
        "df.duplicated().sum()"
      ]
    },
    {
      "cell_type": "code",
      "execution_count": 14,
      "metadata": {},
      "outputs": [
        {
          "data": {
            "text/html": [
              "<div>\n",
              "<style scoped>\n",
              "    .dataframe tbody tr th:only-of-type {\n",
              "        vertical-align: middle;\n",
              "    }\n",
              "\n",
              "    .dataframe tbody tr th {\n",
              "        vertical-align: top;\n",
              "    }\n",
              "\n",
              "    .dataframe thead th {\n",
              "        text-align: right;\n",
              "    }\n",
              "</style>\n",
              "<table border=\"1\" class=\"dataframe\">\n",
              "  <thead>\n",
              "    <tr style=\"text-align: right;\">\n",
              "      <th></th>\n",
              "      <th>Unnamed: 0</th>\n",
              "      <th>name</th>\n",
              "      <th>url</th>\n",
              "      <th>year</th>\n",
              "      <th>certificate</th>\n",
              "      <th>rating</th>\n",
              "      <th>votes</th>\n",
              "      <th>plot summary</th>\n",
              "      <th>Action</th>\n",
              "      <th>Adventure</th>\n",
              "      <th>Comedy</th>\n",
              "      <th>Crime</th>\n",
              "      <th>Family</th>\n",
              "      <th>Fantasy</th>\n",
              "      <th>Mystery</th>\n",
              "      <th>Sci-Fi</th>\n",
              "      <th>Thriller</th>\n",
              "    </tr>\n",
              "  </thead>\n",
              "  <tbody>\n",
              "    <tr>\n",
              "      <th>0</th>\n",
              "      <td>0</td>\n",
              "      <td>Spider-Man</td>\n",
              "      <td>https://www.imdb.com/title/tt5807780/?ref_=adv...</td>\n",
              "      <td>2018.0</td>\n",
              "      <td>T</td>\n",
              "      <td>9.2</td>\n",
              "      <td>20,759</td>\n",
              "      <td>When a new villain threatens New York City, Pe...</td>\n",
              "      <td>True</td>\n",
              "      <td>True</td>\n",
              "      <td>False</td>\n",
              "      <td>False</td>\n",
              "      <td>False</td>\n",
              "      <td>True</td>\n",
              "      <td>False</td>\n",
              "      <td>False</td>\n",
              "      <td>False</td>\n",
              "    </tr>\n",
              "    <tr>\n",
              "      <th>1</th>\n",
              "      <td>1</td>\n",
              "      <td>Red Dead Redemption II</td>\n",
              "      <td>https://www.imdb.com/title/tt6161168/?ref_=adv...</td>\n",
              "      <td>2018.0</td>\n",
              "      <td>M</td>\n",
              "      <td>9.7</td>\n",
              "      <td>35,703</td>\n",
              "      <td>Amidst the decline of the Wild West at the tur...</td>\n",
              "      <td>True</td>\n",
              "      <td>True</td>\n",
              "      <td>False</td>\n",
              "      <td>True</td>\n",
              "      <td>False</td>\n",
              "      <td>False</td>\n",
              "      <td>False</td>\n",
              "      <td>False</td>\n",
              "      <td>False</td>\n",
              "    </tr>\n",
              "    <tr>\n",
              "      <th>2</th>\n",
              "      <td>2</td>\n",
              "      <td>Grand Theft Auto V</td>\n",
              "      <td>https://www.imdb.com/title/tt2103188/?ref_=adv...</td>\n",
              "      <td>2013.0</td>\n",
              "      <td>M</td>\n",
              "      <td>9.5</td>\n",
              "      <td>59,986</td>\n",
              "      <td>Three very different criminals team up for a s...</td>\n",
              "      <td>True</td>\n",
              "      <td>False</td>\n",
              "      <td>False</td>\n",
              "      <td>True</td>\n",
              "      <td>False</td>\n",
              "      <td>False</td>\n",
              "      <td>False</td>\n",
              "      <td>False</td>\n",
              "      <td>False</td>\n",
              "    </tr>\n",
              "    <tr>\n",
              "      <th>3</th>\n",
              "      <td>3</td>\n",
              "      <td>God of War</td>\n",
              "      <td>https://www.imdb.com/title/tt5838588/?ref_=adv...</td>\n",
              "      <td>2018.0</td>\n",
              "      <td>M</td>\n",
              "      <td>9.6</td>\n",
              "      <td>26,118</td>\n",
              "      <td>After wiping out the gods of Mount Olympus, Kr...</td>\n",
              "      <td>True</td>\n",
              "      <td>True</td>\n",
              "      <td>False</td>\n",
              "      <td>False</td>\n",
              "      <td>False</td>\n",
              "      <td>False</td>\n",
              "      <td>False</td>\n",
              "      <td>False</td>\n",
              "      <td>False</td>\n",
              "    </tr>\n",
              "    <tr>\n",
              "      <th>4</th>\n",
              "      <td>4</td>\n",
              "      <td>Uncharted 4: A Thief's End</td>\n",
              "      <td>https://www.imdb.com/title/tt3334704/?ref_=adv...</td>\n",
              "      <td>2016.0</td>\n",
              "      <td>T</td>\n",
              "      <td>9.5</td>\n",
              "      <td>28,722</td>\n",
              "      <td>Thrown back into the dangerous underworld he'd...</td>\n",
              "      <td>True</td>\n",
              "      <td>True</td>\n",
              "      <td>False</td>\n",
              "      <td>False</td>\n",
              "      <td>False</td>\n",
              "      <td>False</td>\n",
              "      <td>False</td>\n",
              "      <td>False</td>\n",
              "      <td>False</td>\n",
              "    </tr>\n",
              "    <tr>\n",
              "      <th>...</th>\n",
              "      <td>...</td>\n",
              "      <td>...</td>\n",
              "      <td>...</td>\n",
              "      <td>...</td>\n",
              "      <td>...</td>\n",
              "      <td>...</td>\n",
              "      <td>...</td>\n",
              "      <td>...</td>\n",
              "      <td>...</td>\n",
              "      <td>...</td>\n",
              "      <td>...</td>\n",
              "      <td>...</td>\n",
              "      <td>...</td>\n",
              "      <td>...</td>\n",
              "      <td>...</td>\n",
              "      <td>...</td>\n",
              "      <td>...</td>\n",
              "    </tr>\n",
              "    <tr>\n",
              "      <th>20800</th>\n",
              "      <td>20798</td>\n",
              "      <td>Enjoy Your Power, Enjoy Your Choice</td>\n",
              "      <td>https://www.imdb.com/title/tt3845606/?ref_=adv...</td>\n",
              "      <td>2014.0</td>\n",
              "      <td>NaN</td>\n",
              "      <td>NaN</td>\n",
              "      <td>NaN</td>\n",
              "      <td>Add a Plot</td>\n",
              "      <td>False</td>\n",
              "      <td>False</td>\n",
              "      <td>False</td>\n",
              "      <td>False</td>\n",
              "      <td>False</td>\n",
              "      <td>False</td>\n",
              "      <td>False</td>\n",
              "      <td>False</td>\n",
              "      <td>True</td>\n",
              "    </tr>\n",
              "    <tr>\n",
              "      <th>20801</th>\n",
              "      <td>20799</td>\n",
              "      <td>RedSun2020</td>\n",
              "      <td>https://www.imdb.com/title/tt0790739/?ref_=adv...</td>\n",
              "      <td>2004.0</td>\n",
              "      <td>NaN</td>\n",
              "      <td>NaN</td>\n",
              "      <td>NaN</td>\n",
              "      <td>Joseph gets kidnapped and it's the player's jo...</td>\n",
              "      <td>False</td>\n",
              "      <td>False</td>\n",
              "      <td>False</td>\n",
              "      <td>False</td>\n",
              "      <td>False</td>\n",
              "      <td>False</td>\n",
              "      <td>False</td>\n",
              "      <td>False</td>\n",
              "      <td>True</td>\n",
              "    </tr>\n",
              "    <tr>\n",
              "      <th>20802</th>\n",
              "      <td>20800</td>\n",
              "      <td>Shutter</td>\n",
              "      <td>https://www.imdb.com/title/tt5119948/?ref_=adv...</td>\n",
              "      <td>2015.0</td>\n",
              "      <td>NaN</td>\n",
              "      <td>NaN</td>\n",
              "      <td>NaN</td>\n",
              "      <td>A tech support man who uses a drone to investi...</td>\n",
              "      <td>False</td>\n",
              "      <td>False</td>\n",
              "      <td>False</td>\n",
              "      <td>False</td>\n",
              "      <td>False</td>\n",
              "      <td>False</td>\n",
              "      <td>False</td>\n",
              "      <td>False</td>\n",
              "      <td>True</td>\n",
              "    </tr>\n",
              "    <tr>\n",
              "      <th>20803</th>\n",
              "      <td>20801</td>\n",
              "      <td>The Music Machine</td>\n",
              "      <td>https://www.imdb.com/title/tt5142082/?ref_=adv...</td>\n",
              "      <td>2015.0</td>\n",
              "      <td>NaN</td>\n",
              "      <td>NaN</td>\n",
              "      <td>NaN</td>\n",
              "      <td>A young teenage girl and the ghost of a dead m...</td>\n",
              "      <td>False</td>\n",
              "      <td>False</td>\n",
              "      <td>False</td>\n",
              "      <td>False</td>\n",
              "      <td>False</td>\n",
              "      <td>False</td>\n",
              "      <td>False</td>\n",
              "      <td>False</td>\n",
              "      <td>True</td>\n",
              "    </tr>\n",
              "    <tr>\n",
              "      <th>20804</th>\n",
              "      <td>20802</td>\n",
              "      <td>Cryptic</td>\n",
              "      <td>https://www.imdb.com/title/tt10964974/?ref_=ad...</td>\n",
              "      <td>2020.0</td>\n",
              "      <td>NaN</td>\n",
              "      <td>NaN</td>\n",
              "      <td>NaN</td>\n",
              "      <td>Kidnapped by an insane man and dragged into a ...</td>\n",
              "      <td>False</td>\n",
              "      <td>False</td>\n",
              "      <td>False</td>\n",
              "      <td>False</td>\n",
              "      <td>False</td>\n",
              "      <td>False</td>\n",
              "      <td>False</td>\n",
              "      <td>False</td>\n",
              "      <td>True</td>\n",
              "    </tr>\n",
              "  </tbody>\n",
              "</table>\n",
              "<p>20803 rows × 17 columns</p>\n",
              "</div>"
            ],
            "text/plain": [
              "       Unnamed: 0                                 name  \\\n",
              "0               0                           Spider-Man   \n",
              "1               1               Red Dead Redemption II   \n",
              "2               2                   Grand Theft Auto V   \n",
              "3               3                           God of War   \n",
              "4               4           Uncharted 4: A Thief's End   \n",
              "...           ...                                  ...   \n",
              "20800       20798  Enjoy Your Power, Enjoy Your Choice   \n",
              "20801       20799                           RedSun2020   \n",
              "20802       20800                              Shutter   \n",
              "20803       20801                    The Music Machine   \n",
              "20804       20802                              Cryptic   \n",
              "\n",
              "                                                     url    year certificate  \\\n",
              "0      https://www.imdb.com/title/tt5807780/?ref_=adv...  2018.0           T   \n",
              "1      https://www.imdb.com/title/tt6161168/?ref_=adv...  2018.0           M   \n",
              "2      https://www.imdb.com/title/tt2103188/?ref_=adv...  2013.0           M   \n",
              "3      https://www.imdb.com/title/tt5838588/?ref_=adv...  2018.0           M   \n",
              "4      https://www.imdb.com/title/tt3334704/?ref_=adv...  2016.0           T   \n",
              "...                                                  ...     ...         ...   \n",
              "20800  https://www.imdb.com/title/tt3845606/?ref_=adv...  2014.0         NaN   \n",
              "20801  https://www.imdb.com/title/tt0790739/?ref_=adv...  2004.0         NaN   \n",
              "20802  https://www.imdb.com/title/tt5119948/?ref_=adv...  2015.0         NaN   \n",
              "20803  https://www.imdb.com/title/tt5142082/?ref_=adv...  2015.0         NaN   \n",
              "20804  https://www.imdb.com/title/tt10964974/?ref_=ad...  2020.0         NaN   \n",
              "\n",
              "      rating   votes                                       plot summary  \\\n",
              "0        9.2  20,759  When a new villain threatens New York City, Pe...   \n",
              "1        9.7  35,703  Amidst the decline of the Wild West at the tur...   \n",
              "2        9.5  59,986  Three very different criminals team up for a s...   \n",
              "3        9.6  26,118  After wiping out the gods of Mount Olympus, Kr...   \n",
              "4        9.5  28,722  Thrown back into the dangerous underworld he'd...   \n",
              "...      ...     ...                                                ...   \n",
              "20800    NaN     NaN                                         Add a Plot   \n",
              "20801    NaN     NaN  Joseph gets kidnapped and it's the player's jo...   \n",
              "20802    NaN     NaN  A tech support man who uses a drone to investi...   \n",
              "20803    NaN     NaN  A young teenage girl and the ghost of a dead m...   \n",
              "20804    NaN     NaN  Kidnapped by an insane man and dragged into a ...   \n",
              "\n",
              "       Action  Adventure  Comedy  Crime  Family  Fantasy  Mystery  Sci-Fi  \\\n",
              "0        True       True   False  False   False     True    False   False   \n",
              "1        True       True   False   True   False    False    False   False   \n",
              "2        True      False   False   True   False    False    False   False   \n",
              "3        True       True   False  False   False    False    False   False   \n",
              "4        True       True   False  False   False    False    False   False   \n",
              "...       ...        ...     ...    ...     ...      ...      ...     ...   \n",
              "20800   False      False   False  False   False    False    False   False   \n",
              "20801   False      False   False  False   False    False    False   False   \n",
              "20802   False      False   False  False   False    False    False   False   \n",
              "20803   False      False   False  False   False    False    False   False   \n",
              "20804   False      False   False  False   False    False    False   False   \n",
              "\n",
              "       Thriller  \n",
              "0         False  \n",
              "1         False  \n",
              "2         False  \n",
              "3         False  \n",
              "4         False  \n",
              "...         ...  \n",
              "20800      True  \n",
              "20801      True  \n",
              "20802      True  \n",
              "20803      True  \n",
              "20804      True  \n",
              "\n",
              "[20803 rows x 17 columns]"
            ]
          },
          "execution_count": 14,
          "metadata": {},
          "output_type": "execute_result"
        }
      ],
      "source": [
        "df.drop_duplicates(inplace=True)\n",
        "df"
      ]
    },
    {
      "cell_type": "code",
      "execution_count": 15,
      "metadata": {},
      "outputs": [
        {
          "data": {
            "text/plain": [
              "0"
            ]
          },
          "execution_count": 15,
          "metadata": {},
          "output_type": "execute_result"
        }
      ],
      "source": [
        "df.duplicated().sum()"
      ]
    },
    {
      "cell_type": "markdown",
      "metadata": {},
      "source": [
        "There were two duplicates in the dataframe so I dropped them and checked once more to make sure they were gone."
      ]
    },
    {
      "cell_type": "markdown",
      "metadata": {
        "id": "v49n0pjypU0H"
      },
      "source": [
        "## 5. Fix Types"
      ]
    },
    {
      "cell_type": "code",
      "execution_count": 9,
      "metadata": {
        "colab": {
          "base_uri": "https://localhost:8080/",
          "height": 297
        },
        "id": "XOHIrWXVvjU0",
        "outputId": "fee97ec9-8fae-4b4c-b502-0dd91e3aeff5"
      },
      "outputs": [
        {
          "name": "stdout",
          "output_type": "stream",
          "text": [
            "<class 'pandas.core.frame.DataFrame'>\n",
            "RangeIndex: 20805 entries, 0 to 20804\n",
            "Data columns (total 17 columns):\n",
            " #   Column        Non-Null Count  Dtype  \n",
            "---  ------        --------------  -----  \n",
            " 0   Unnamed: 0    20805 non-null  int64  \n",
            " 1   name          20805 non-null  object \n",
            " 2   url           20805 non-null  object \n",
            " 3   year          20538 non-null  float64\n",
            " 4   certificate   7905 non-null   object \n",
            " 5   rating        11602 non-null  object \n",
            " 6   votes         11602 non-null  object \n",
            " 7   plot summary  20805 non-null  object \n",
            " 8   Action        20805 non-null  bool   \n",
            " 9   Adventure     20805 non-null  bool   \n",
            " 10  Comedy        20805 non-null  bool   \n",
            " 11  Crime         20805 non-null  bool   \n",
            " 12  Family        20805 non-null  bool   \n",
            " 13  Fantasy       20805 non-null  bool   \n",
            " 14  Mystery       20805 non-null  bool   \n",
            " 15  Sci-Fi        20805 non-null  bool   \n",
            " 16  Thriller      20805 non-null  bool   \n",
            "dtypes: bool(9), float64(1), int64(1), object(6)\n",
            "memory usage: 1.4+ MB\n"
          ]
        }
      ],
      "source": [
        "df.info()"
      ]
    },
    {
      "cell_type": "code",
      "execution_count": 10,
      "metadata": {
        "colab": {
          "base_uri": "https://localhost:8080/",
          "height": 297
        },
        "id": "vP-BSVdGmFSq",
        "outputId": "a2f8316b-06bc-44ba-923f-ce2c26e511d9"
      },
      "outputs": [
        {
          "data": {
            "text/plain": [
              "Unnamed: 0        int64\n",
              "name             object\n",
              "url              object\n",
              "year            float64\n",
              "certificate      object\n",
              "rating           object\n",
              "votes            object\n",
              "plot summary     object\n",
              "Action             bool\n",
              "Adventure          bool\n",
              "Comedy             bool\n",
              "Crime              bool\n",
              "Family             bool\n",
              "Fantasy            bool\n",
              "Mystery            bool\n",
              "Sci-Fi             bool\n",
              "Thriller           bool\n",
              "dtype: object"
            ]
          },
          "execution_count": 10,
          "metadata": {},
          "output_type": "execute_result"
        }
      ],
      "source": [
        "df.dtypes"
      ]
    },
    {
      "cell_type": "code",
      "execution_count": 34,
      "metadata": {},
      "outputs": [
        {
          "data": {
            "text/plain": [
              "0        9.2\n",
              "1        9.7\n",
              "2        9.5\n",
              "3        9.6\n",
              "4        9.5\n",
              "        ... \n",
              "20800    0.0\n",
              "20801    0.0\n",
              "20802    0.0\n",
              "20803    0.0\n",
              "20804    0.0\n",
              "Name: rating, Length: 20803, dtype: float64"
            ]
          },
          "execution_count": 34,
          "metadata": {},
          "output_type": "execute_result"
        }
      ],
      "source": [
        "df[ df.rating==\"*9.0\"]\n",
        "df.rating.replace(\"*9.0\", 9.0, inplace=True)\n",
        "df.rating = pd.to_numeric(df.rating)\n",
        "df.rating.astype(float)"
      ]
    },
    {
      "cell_type": "code",
      "execution_count": 33,
      "metadata": {},
      "outputs": [
        {
          "data": {
            "text/plain": [
              "0                                 Spider-Man\n",
              "1                     Red Dead Redemption II\n",
              "2                         Grand Theft Auto V\n",
              "3                                 God of War\n",
              "4                 Uncharted 4: A Thief's End\n",
              "                        ...                 \n",
              "20800    Enjoy Your Power, Enjoy Your Choice\n",
              "20801                             RedSun2020\n",
              "20802                                Shutter\n",
              "20803                      The Music Machine\n",
              "20804                                Cryptic\n",
              "Name: name, Length: 20803, dtype: object"
            ]
          },
          "execution_count": 33,
          "metadata": {},
          "output_type": "execute_result"
        }
      ],
      "source": [
        "df.name.astype(str)"
      ]
    },
    {
      "cell_type": "code",
      "execution_count": 11,
      "metadata": {
        "colab": {
          "base_uri": "https://localhost:8080/"
        },
        "id": "uowkED0rm3gT",
        "outputId": "4f056f2d-af36-4006-98ed-29e4883189e3"
      },
      "outputs": [
        {
          "data": {
            "text/plain": [
              "Index(['Unnamed: 0', 'name', 'url', 'year', 'certificate', 'rating', 'votes',\n",
              "       'plot summary', 'Action', 'Adventure', 'Comedy', 'Crime', 'Family',\n",
              "       'Fantasy', 'Mystery', 'Sci-Fi', 'Thriller'],\n",
              "      dtype='object')"
            ]
          },
          "execution_count": 11,
          "metadata": {},
          "output_type": "execute_result"
        }
      ],
      "source": [
        "df.columns"
      ]
    },
    {
      "cell_type": "markdown",
      "metadata": {},
      "source": [
        "First thing I wanted to do was change all of the ratings to floats. This will allow us to use mean, median, mode, sum, and oher similar commands. Next I wanted to change the names to strings because some of the titles had numbers and i wanted them to be the same. "
      ]
    },
    {
      "cell_type": "markdown",
      "metadata": {
        "id": "GY36cdUtstuC"
      },
      "source": [
        "## 6. Drop and Rename Columns"
      ]
    },
    {
      "cell_type": "code",
      "execution_count": 12,
      "metadata": {
        "colab": {
          "base_uri": "https://localhost:8080/"
        },
        "id": "DLCMcPjQmkyL",
        "outputId": "3f0b509d-bc3c-44e1-c546-ee9e176fc276"
      },
      "outputs": [
        {
          "data": {
            "text/plain": [
              "Index(['Unnamed: 0', 'name', 'url', 'year', 'certificate', 'rating', 'votes',\n",
              "       'plot summary', 'Action', 'Adventure', 'Comedy', 'Crime', 'Family',\n",
              "       'Fantasy', 'Mystery', 'Sci-Fi', 'Thriller'],\n",
              "      dtype='object')"
            ]
          },
          "execution_count": 12,
          "metadata": {},
          "output_type": "execute_result"
        }
      ],
      "source": [
        "df.columns"
      ]
    },
    {
      "cell_type": "code",
      "execution_count": 23,
      "metadata": {},
      "outputs": [
        {
          "data": {
            "text/html": [
              "<div>\n",
              "<style scoped>\n",
              "    .dataframe tbody tr th:only-of-type {\n",
              "        vertical-align: middle;\n",
              "    }\n",
              "\n",
              "    .dataframe tbody tr th {\n",
              "        vertical-align: top;\n",
              "    }\n",
              "\n",
              "    .dataframe thead th {\n",
              "        text-align: right;\n",
              "    }\n",
              "</style>\n",
              "<table border=\"1\" class=\"dataframe\">\n",
              "  <thead>\n",
              "    <tr style=\"text-align: right;\">\n",
              "      <th></th>\n",
              "      <th>name</th>\n",
              "      <th>url</th>\n",
              "      <th>year</th>\n",
              "      <th>certificate</th>\n",
              "      <th>rating</th>\n",
              "      <th>votes</th>\n",
              "      <th>plot summary</th>\n",
              "      <th>Action</th>\n",
              "      <th>Adventure</th>\n",
              "      <th>Comedy</th>\n",
              "      <th>Crime</th>\n",
              "      <th>Family</th>\n",
              "      <th>Fantasy</th>\n",
              "      <th>Mystery</th>\n",
              "      <th>Sci-Fi</th>\n",
              "      <th>Thriller</th>\n",
              "    </tr>\n",
              "  </thead>\n",
              "  <tbody>\n",
              "    <tr>\n",
              "      <th>0</th>\n",
              "      <td>Spider-Man</td>\n",
              "      <td>https://www.imdb.com/title/tt5807780/?ref_=adv...</td>\n",
              "      <td>2018.0</td>\n",
              "      <td>T</td>\n",
              "      <td>9.2</td>\n",
              "      <td>20,759</td>\n",
              "      <td>When a new villain threatens New York City, Pe...</td>\n",
              "      <td>True</td>\n",
              "      <td>True</td>\n",
              "      <td>False</td>\n",
              "      <td>False</td>\n",
              "      <td>False</td>\n",
              "      <td>True</td>\n",
              "      <td>False</td>\n",
              "      <td>False</td>\n",
              "      <td>False</td>\n",
              "    </tr>\n",
              "    <tr>\n",
              "      <th>1</th>\n",
              "      <td>Red Dead Redemption II</td>\n",
              "      <td>https://www.imdb.com/title/tt6161168/?ref_=adv...</td>\n",
              "      <td>2018.0</td>\n",
              "      <td>M</td>\n",
              "      <td>9.7</td>\n",
              "      <td>35,703</td>\n",
              "      <td>Amidst the decline of the Wild West at the tur...</td>\n",
              "      <td>True</td>\n",
              "      <td>True</td>\n",
              "      <td>False</td>\n",
              "      <td>True</td>\n",
              "      <td>False</td>\n",
              "      <td>False</td>\n",
              "      <td>False</td>\n",
              "      <td>False</td>\n",
              "      <td>False</td>\n",
              "    </tr>\n",
              "    <tr>\n",
              "      <th>2</th>\n",
              "      <td>Grand Theft Auto V</td>\n",
              "      <td>https://www.imdb.com/title/tt2103188/?ref_=adv...</td>\n",
              "      <td>2013.0</td>\n",
              "      <td>M</td>\n",
              "      <td>9.5</td>\n",
              "      <td>59,986</td>\n",
              "      <td>Three very different criminals team up for a s...</td>\n",
              "      <td>True</td>\n",
              "      <td>False</td>\n",
              "      <td>False</td>\n",
              "      <td>True</td>\n",
              "      <td>False</td>\n",
              "      <td>False</td>\n",
              "      <td>False</td>\n",
              "      <td>False</td>\n",
              "      <td>False</td>\n",
              "    </tr>\n",
              "    <tr>\n",
              "      <th>3</th>\n",
              "      <td>God of War</td>\n",
              "      <td>https://www.imdb.com/title/tt5838588/?ref_=adv...</td>\n",
              "      <td>2018.0</td>\n",
              "      <td>M</td>\n",
              "      <td>9.6</td>\n",
              "      <td>26,118</td>\n",
              "      <td>After wiping out the gods of Mount Olympus, Kr...</td>\n",
              "      <td>True</td>\n",
              "      <td>True</td>\n",
              "      <td>False</td>\n",
              "      <td>False</td>\n",
              "      <td>False</td>\n",
              "      <td>False</td>\n",
              "      <td>False</td>\n",
              "      <td>False</td>\n",
              "      <td>False</td>\n",
              "    </tr>\n",
              "    <tr>\n",
              "      <th>4</th>\n",
              "      <td>Uncharted 4: A Thief's End</td>\n",
              "      <td>https://www.imdb.com/title/tt3334704/?ref_=adv...</td>\n",
              "      <td>2016.0</td>\n",
              "      <td>T</td>\n",
              "      <td>9.5</td>\n",
              "      <td>28,722</td>\n",
              "      <td>Thrown back into the dangerous underworld he'd...</td>\n",
              "      <td>True</td>\n",
              "      <td>True</td>\n",
              "      <td>False</td>\n",
              "      <td>False</td>\n",
              "      <td>False</td>\n",
              "      <td>False</td>\n",
              "      <td>False</td>\n",
              "      <td>False</td>\n",
              "      <td>False</td>\n",
              "    </tr>\n",
              "    <tr>\n",
              "      <th>...</th>\n",
              "      <td>...</td>\n",
              "      <td>...</td>\n",
              "      <td>...</td>\n",
              "      <td>...</td>\n",
              "      <td>...</td>\n",
              "      <td>...</td>\n",
              "      <td>...</td>\n",
              "      <td>...</td>\n",
              "      <td>...</td>\n",
              "      <td>...</td>\n",
              "      <td>...</td>\n",
              "      <td>...</td>\n",
              "      <td>...</td>\n",
              "      <td>...</td>\n",
              "      <td>...</td>\n",
              "      <td>...</td>\n",
              "    </tr>\n",
              "    <tr>\n",
              "      <th>20800</th>\n",
              "      <td>Enjoy Your Power, Enjoy Your Choice</td>\n",
              "      <td>https://www.imdb.com/title/tt3845606/?ref_=adv...</td>\n",
              "      <td>2014.0</td>\n",
              "      <td>NaN</td>\n",
              "      <td>NaN</td>\n",
              "      <td>NaN</td>\n",
              "      <td>Add a Plot</td>\n",
              "      <td>False</td>\n",
              "      <td>False</td>\n",
              "      <td>False</td>\n",
              "      <td>False</td>\n",
              "      <td>False</td>\n",
              "      <td>False</td>\n",
              "      <td>False</td>\n",
              "      <td>False</td>\n",
              "      <td>True</td>\n",
              "    </tr>\n",
              "    <tr>\n",
              "      <th>20801</th>\n",
              "      <td>RedSun2020</td>\n",
              "      <td>https://www.imdb.com/title/tt0790739/?ref_=adv...</td>\n",
              "      <td>2004.0</td>\n",
              "      <td>NaN</td>\n",
              "      <td>NaN</td>\n",
              "      <td>NaN</td>\n",
              "      <td>Joseph gets kidnapped and it's the player's jo...</td>\n",
              "      <td>False</td>\n",
              "      <td>False</td>\n",
              "      <td>False</td>\n",
              "      <td>False</td>\n",
              "      <td>False</td>\n",
              "      <td>False</td>\n",
              "      <td>False</td>\n",
              "      <td>False</td>\n",
              "      <td>True</td>\n",
              "    </tr>\n",
              "    <tr>\n",
              "      <th>20802</th>\n",
              "      <td>Shutter</td>\n",
              "      <td>https://www.imdb.com/title/tt5119948/?ref_=adv...</td>\n",
              "      <td>2015.0</td>\n",
              "      <td>NaN</td>\n",
              "      <td>NaN</td>\n",
              "      <td>NaN</td>\n",
              "      <td>A tech support man who uses a drone to investi...</td>\n",
              "      <td>False</td>\n",
              "      <td>False</td>\n",
              "      <td>False</td>\n",
              "      <td>False</td>\n",
              "      <td>False</td>\n",
              "      <td>False</td>\n",
              "      <td>False</td>\n",
              "      <td>False</td>\n",
              "      <td>True</td>\n",
              "    </tr>\n",
              "    <tr>\n",
              "      <th>20803</th>\n",
              "      <td>The Music Machine</td>\n",
              "      <td>https://www.imdb.com/title/tt5142082/?ref_=adv...</td>\n",
              "      <td>2015.0</td>\n",
              "      <td>NaN</td>\n",
              "      <td>NaN</td>\n",
              "      <td>NaN</td>\n",
              "      <td>A young teenage girl and the ghost of a dead m...</td>\n",
              "      <td>False</td>\n",
              "      <td>False</td>\n",
              "      <td>False</td>\n",
              "      <td>False</td>\n",
              "      <td>False</td>\n",
              "      <td>False</td>\n",
              "      <td>False</td>\n",
              "      <td>False</td>\n",
              "      <td>True</td>\n",
              "    </tr>\n",
              "    <tr>\n",
              "      <th>20804</th>\n",
              "      <td>Cryptic</td>\n",
              "      <td>https://www.imdb.com/title/tt10964974/?ref_=ad...</td>\n",
              "      <td>2020.0</td>\n",
              "      <td>NaN</td>\n",
              "      <td>NaN</td>\n",
              "      <td>NaN</td>\n",
              "      <td>Kidnapped by an insane man and dragged into a ...</td>\n",
              "      <td>False</td>\n",
              "      <td>False</td>\n",
              "      <td>False</td>\n",
              "      <td>False</td>\n",
              "      <td>False</td>\n",
              "      <td>False</td>\n",
              "      <td>False</td>\n",
              "      <td>False</td>\n",
              "      <td>True</td>\n",
              "    </tr>\n",
              "  </tbody>\n",
              "</table>\n",
              "<p>20803 rows × 16 columns</p>\n",
              "</div>"
            ],
            "text/plain": [
              "                                      name  \\\n",
              "0                               Spider-Man   \n",
              "1                   Red Dead Redemption II   \n",
              "2                       Grand Theft Auto V   \n",
              "3                               God of War   \n",
              "4               Uncharted 4: A Thief's End   \n",
              "...                                    ...   \n",
              "20800  Enjoy Your Power, Enjoy Your Choice   \n",
              "20801                           RedSun2020   \n",
              "20802                              Shutter   \n",
              "20803                    The Music Machine   \n",
              "20804                              Cryptic   \n",
              "\n",
              "                                                     url    year certificate  \\\n",
              "0      https://www.imdb.com/title/tt5807780/?ref_=adv...  2018.0           T   \n",
              "1      https://www.imdb.com/title/tt6161168/?ref_=adv...  2018.0           M   \n",
              "2      https://www.imdb.com/title/tt2103188/?ref_=adv...  2013.0           M   \n",
              "3      https://www.imdb.com/title/tt5838588/?ref_=adv...  2018.0           M   \n",
              "4      https://www.imdb.com/title/tt3334704/?ref_=adv...  2016.0           T   \n",
              "...                                                  ...     ...         ...   \n",
              "20800  https://www.imdb.com/title/tt3845606/?ref_=adv...  2014.0         NaN   \n",
              "20801  https://www.imdb.com/title/tt0790739/?ref_=adv...  2004.0         NaN   \n",
              "20802  https://www.imdb.com/title/tt5119948/?ref_=adv...  2015.0         NaN   \n",
              "20803  https://www.imdb.com/title/tt5142082/?ref_=adv...  2015.0         NaN   \n",
              "20804  https://www.imdb.com/title/tt10964974/?ref_=ad...  2020.0         NaN   \n",
              "\n",
              "       rating   votes                                       plot summary  \\\n",
              "0         9.2  20,759  When a new villain threatens New York City, Pe...   \n",
              "1         9.7  35,703  Amidst the decline of the Wild West at the tur...   \n",
              "2         9.5  59,986  Three very different criminals team up for a s...   \n",
              "3         9.6  26,118  After wiping out the gods of Mount Olympus, Kr...   \n",
              "4         9.5  28,722  Thrown back into the dangerous underworld he'd...   \n",
              "...       ...     ...                                                ...   \n",
              "20800     NaN     NaN                                         Add a Plot   \n",
              "20801     NaN     NaN  Joseph gets kidnapped and it's the player's jo...   \n",
              "20802     NaN     NaN  A tech support man who uses a drone to investi...   \n",
              "20803     NaN     NaN  A young teenage girl and the ghost of a dead m...   \n",
              "20804     NaN     NaN  Kidnapped by an insane man and dragged into a ...   \n",
              "\n",
              "       Action  Adventure  Comedy  Crime  Family  Fantasy  Mystery  Sci-Fi  \\\n",
              "0        True       True   False  False   False     True    False   False   \n",
              "1        True       True   False   True   False    False    False   False   \n",
              "2        True      False   False   True   False    False    False   False   \n",
              "3        True       True   False  False   False    False    False   False   \n",
              "4        True       True   False  False   False    False    False   False   \n",
              "...       ...        ...     ...    ...     ...      ...      ...     ...   \n",
              "20800   False      False   False  False   False    False    False   False   \n",
              "20801   False      False   False  False   False    False    False   False   \n",
              "20802   False      False   False  False   False    False    False   False   \n",
              "20803   False      False   False  False   False    False    False   False   \n",
              "20804   False      False   False  False   False    False    False   False   \n",
              "\n",
              "       Thriller  \n",
              "0         False  \n",
              "1         False  \n",
              "2         False  \n",
              "3         False  \n",
              "4         False  \n",
              "...         ...  \n",
              "20800      True  \n",
              "20801      True  \n",
              "20802      True  \n",
              "20803      True  \n",
              "20804      True  \n",
              "\n",
              "[20803 rows x 16 columns]"
            ]
          },
          "execution_count": 23,
          "metadata": {},
          "output_type": "execute_result"
        }
      ],
      "source": [
        "df = df.drop(\"Unnamed: 0\", axis=1)\n",
        "df"
      ]
    },
    {
      "cell_type": "code",
      "execution_count": 25,
      "metadata": {},
      "outputs": [
        {
          "data": {
            "text/html": [
              "<div>\n",
              "<style scoped>\n",
              "    .dataframe tbody tr th:only-of-type {\n",
              "        vertical-align: middle;\n",
              "    }\n",
              "\n",
              "    .dataframe tbody tr th {\n",
              "        vertical-align: top;\n",
              "    }\n",
              "\n",
              "    .dataframe thead th {\n",
              "        text-align: right;\n",
              "    }\n",
              "</style>\n",
              "<table border=\"1\" class=\"dataframe\">\n",
              "  <thead>\n",
              "    <tr style=\"text-align: right;\">\n",
              "      <th></th>\n",
              "      <th>name</th>\n",
              "      <th>url</th>\n",
              "      <th>year</th>\n",
              "      <th>certificate</th>\n",
              "      <th>rating</th>\n",
              "      <th>votes</th>\n",
              "      <th>plotSummary</th>\n",
              "      <th>Action</th>\n",
              "      <th>Adventure</th>\n",
              "      <th>Comedy</th>\n",
              "      <th>Crime</th>\n",
              "      <th>Family</th>\n",
              "      <th>Fantasy</th>\n",
              "      <th>Mystery</th>\n",
              "      <th>SciFi</th>\n",
              "      <th>Thriller</th>\n",
              "    </tr>\n",
              "  </thead>\n",
              "  <tbody>\n",
              "    <tr>\n",
              "      <th>0</th>\n",
              "      <td>Spider-Man</td>\n",
              "      <td>https://www.imdb.com/title/tt5807780/?ref_=adv...</td>\n",
              "      <td>2018.0</td>\n",
              "      <td>T</td>\n",
              "      <td>9.2</td>\n",
              "      <td>20,759</td>\n",
              "      <td>When a new villain threatens New York City, Pe...</td>\n",
              "      <td>True</td>\n",
              "      <td>True</td>\n",
              "      <td>False</td>\n",
              "      <td>False</td>\n",
              "      <td>False</td>\n",
              "      <td>True</td>\n",
              "      <td>False</td>\n",
              "      <td>False</td>\n",
              "      <td>False</td>\n",
              "    </tr>\n",
              "    <tr>\n",
              "      <th>1</th>\n",
              "      <td>Red Dead Redemption II</td>\n",
              "      <td>https://www.imdb.com/title/tt6161168/?ref_=adv...</td>\n",
              "      <td>2018.0</td>\n",
              "      <td>M</td>\n",
              "      <td>9.7</td>\n",
              "      <td>35,703</td>\n",
              "      <td>Amidst the decline of the Wild West at the tur...</td>\n",
              "      <td>True</td>\n",
              "      <td>True</td>\n",
              "      <td>False</td>\n",
              "      <td>True</td>\n",
              "      <td>False</td>\n",
              "      <td>False</td>\n",
              "      <td>False</td>\n",
              "      <td>False</td>\n",
              "      <td>False</td>\n",
              "    </tr>\n",
              "    <tr>\n",
              "      <th>2</th>\n",
              "      <td>Grand Theft Auto V</td>\n",
              "      <td>https://www.imdb.com/title/tt2103188/?ref_=adv...</td>\n",
              "      <td>2013.0</td>\n",
              "      <td>M</td>\n",
              "      <td>9.5</td>\n",
              "      <td>59,986</td>\n",
              "      <td>Three very different criminals team up for a s...</td>\n",
              "      <td>True</td>\n",
              "      <td>False</td>\n",
              "      <td>False</td>\n",
              "      <td>True</td>\n",
              "      <td>False</td>\n",
              "      <td>False</td>\n",
              "      <td>False</td>\n",
              "      <td>False</td>\n",
              "      <td>False</td>\n",
              "    </tr>\n",
              "    <tr>\n",
              "      <th>3</th>\n",
              "      <td>God of War</td>\n",
              "      <td>https://www.imdb.com/title/tt5838588/?ref_=adv...</td>\n",
              "      <td>2018.0</td>\n",
              "      <td>M</td>\n",
              "      <td>9.6</td>\n",
              "      <td>26,118</td>\n",
              "      <td>After wiping out the gods of Mount Olympus, Kr...</td>\n",
              "      <td>True</td>\n",
              "      <td>True</td>\n",
              "      <td>False</td>\n",
              "      <td>False</td>\n",
              "      <td>False</td>\n",
              "      <td>False</td>\n",
              "      <td>False</td>\n",
              "      <td>False</td>\n",
              "      <td>False</td>\n",
              "    </tr>\n",
              "    <tr>\n",
              "      <th>4</th>\n",
              "      <td>Uncharted 4: A Thief's End</td>\n",
              "      <td>https://www.imdb.com/title/tt3334704/?ref_=adv...</td>\n",
              "      <td>2016.0</td>\n",
              "      <td>T</td>\n",
              "      <td>9.5</td>\n",
              "      <td>28,722</td>\n",
              "      <td>Thrown back into the dangerous underworld he'd...</td>\n",
              "      <td>True</td>\n",
              "      <td>True</td>\n",
              "      <td>False</td>\n",
              "      <td>False</td>\n",
              "      <td>False</td>\n",
              "      <td>False</td>\n",
              "      <td>False</td>\n",
              "      <td>False</td>\n",
              "      <td>False</td>\n",
              "    </tr>\n",
              "    <tr>\n",
              "      <th>...</th>\n",
              "      <td>...</td>\n",
              "      <td>...</td>\n",
              "      <td>...</td>\n",
              "      <td>...</td>\n",
              "      <td>...</td>\n",
              "      <td>...</td>\n",
              "      <td>...</td>\n",
              "      <td>...</td>\n",
              "      <td>...</td>\n",
              "      <td>...</td>\n",
              "      <td>...</td>\n",
              "      <td>...</td>\n",
              "      <td>...</td>\n",
              "      <td>...</td>\n",
              "      <td>...</td>\n",
              "      <td>...</td>\n",
              "    </tr>\n",
              "    <tr>\n",
              "      <th>20800</th>\n",
              "      <td>Enjoy Your Power, Enjoy Your Choice</td>\n",
              "      <td>https://www.imdb.com/title/tt3845606/?ref_=adv...</td>\n",
              "      <td>2014.0</td>\n",
              "      <td>NaN</td>\n",
              "      <td>NaN</td>\n",
              "      <td>NaN</td>\n",
              "      <td>Add a Plot</td>\n",
              "      <td>False</td>\n",
              "      <td>False</td>\n",
              "      <td>False</td>\n",
              "      <td>False</td>\n",
              "      <td>False</td>\n",
              "      <td>False</td>\n",
              "      <td>False</td>\n",
              "      <td>False</td>\n",
              "      <td>True</td>\n",
              "    </tr>\n",
              "    <tr>\n",
              "      <th>20801</th>\n",
              "      <td>RedSun2020</td>\n",
              "      <td>https://www.imdb.com/title/tt0790739/?ref_=adv...</td>\n",
              "      <td>2004.0</td>\n",
              "      <td>NaN</td>\n",
              "      <td>NaN</td>\n",
              "      <td>NaN</td>\n",
              "      <td>Joseph gets kidnapped and it's the player's jo...</td>\n",
              "      <td>False</td>\n",
              "      <td>False</td>\n",
              "      <td>False</td>\n",
              "      <td>False</td>\n",
              "      <td>False</td>\n",
              "      <td>False</td>\n",
              "      <td>False</td>\n",
              "      <td>False</td>\n",
              "      <td>True</td>\n",
              "    </tr>\n",
              "    <tr>\n",
              "      <th>20802</th>\n",
              "      <td>Shutter</td>\n",
              "      <td>https://www.imdb.com/title/tt5119948/?ref_=adv...</td>\n",
              "      <td>2015.0</td>\n",
              "      <td>NaN</td>\n",
              "      <td>NaN</td>\n",
              "      <td>NaN</td>\n",
              "      <td>A tech support man who uses a drone to investi...</td>\n",
              "      <td>False</td>\n",
              "      <td>False</td>\n",
              "      <td>False</td>\n",
              "      <td>False</td>\n",
              "      <td>False</td>\n",
              "      <td>False</td>\n",
              "      <td>False</td>\n",
              "      <td>False</td>\n",
              "      <td>True</td>\n",
              "    </tr>\n",
              "    <tr>\n",
              "      <th>20803</th>\n",
              "      <td>The Music Machine</td>\n",
              "      <td>https://www.imdb.com/title/tt5142082/?ref_=adv...</td>\n",
              "      <td>2015.0</td>\n",
              "      <td>NaN</td>\n",
              "      <td>NaN</td>\n",
              "      <td>NaN</td>\n",
              "      <td>A young teenage girl and the ghost of a dead m...</td>\n",
              "      <td>False</td>\n",
              "      <td>False</td>\n",
              "      <td>False</td>\n",
              "      <td>False</td>\n",
              "      <td>False</td>\n",
              "      <td>False</td>\n",
              "      <td>False</td>\n",
              "      <td>False</td>\n",
              "      <td>True</td>\n",
              "    </tr>\n",
              "    <tr>\n",
              "      <th>20804</th>\n",
              "      <td>Cryptic</td>\n",
              "      <td>https://www.imdb.com/title/tt10964974/?ref_=ad...</td>\n",
              "      <td>2020.0</td>\n",
              "      <td>NaN</td>\n",
              "      <td>NaN</td>\n",
              "      <td>NaN</td>\n",
              "      <td>Kidnapped by an insane man and dragged into a ...</td>\n",
              "      <td>False</td>\n",
              "      <td>False</td>\n",
              "      <td>False</td>\n",
              "      <td>False</td>\n",
              "      <td>False</td>\n",
              "      <td>False</td>\n",
              "      <td>False</td>\n",
              "      <td>False</td>\n",
              "      <td>True</td>\n",
              "    </tr>\n",
              "  </tbody>\n",
              "</table>\n",
              "<p>20803 rows × 16 columns</p>\n",
              "</div>"
            ],
            "text/plain": [
              "                                      name  \\\n",
              "0                               Spider-Man   \n",
              "1                   Red Dead Redemption II   \n",
              "2                       Grand Theft Auto V   \n",
              "3                               God of War   \n",
              "4               Uncharted 4: A Thief's End   \n",
              "...                                    ...   \n",
              "20800  Enjoy Your Power, Enjoy Your Choice   \n",
              "20801                           RedSun2020   \n",
              "20802                              Shutter   \n",
              "20803                    The Music Machine   \n",
              "20804                              Cryptic   \n",
              "\n",
              "                                                     url    year certificate  \\\n",
              "0      https://www.imdb.com/title/tt5807780/?ref_=adv...  2018.0           T   \n",
              "1      https://www.imdb.com/title/tt6161168/?ref_=adv...  2018.0           M   \n",
              "2      https://www.imdb.com/title/tt2103188/?ref_=adv...  2013.0           M   \n",
              "3      https://www.imdb.com/title/tt5838588/?ref_=adv...  2018.0           M   \n",
              "4      https://www.imdb.com/title/tt3334704/?ref_=adv...  2016.0           T   \n",
              "...                                                  ...     ...         ...   \n",
              "20800  https://www.imdb.com/title/tt3845606/?ref_=adv...  2014.0         NaN   \n",
              "20801  https://www.imdb.com/title/tt0790739/?ref_=adv...  2004.0         NaN   \n",
              "20802  https://www.imdb.com/title/tt5119948/?ref_=adv...  2015.0         NaN   \n",
              "20803  https://www.imdb.com/title/tt5142082/?ref_=adv...  2015.0         NaN   \n",
              "20804  https://www.imdb.com/title/tt10964974/?ref_=ad...  2020.0         NaN   \n",
              "\n",
              "       rating   votes                                        plotSummary  \\\n",
              "0         9.2  20,759  When a new villain threatens New York City, Pe...   \n",
              "1         9.7  35,703  Amidst the decline of the Wild West at the tur...   \n",
              "2         9.5  59,986  Three very different criminals team up for a s...   \n",
              "3         9.6  26,118  After wiping out the gods of Mount Olympus, Kr...   \n",
              "4         9.5  28,722  Thrown back into the dangerous underworld he'd...   \n",
              "...       ...     ...                                                ...   \n",
              "20800     NaN     NaN                                         Add a Plot   \n",
              "20801     NaN     NaN  Joseph gets kidnapped and it's the player's jo...   \n",
              "20802     NaN     NaN  A tech support man who uses a drone to investi...   \n",
              "20803     NaN     NaN  A young teenage girl and the ghost of a dead m...   \n",
              "20804     NaN     NaN  Kidnapped by an insane man and dragged into a ...   \n",
              "\n",
              "       Action  Adventure  Comedy  Crime  Family  Fantasy  Mystery  SciFi  \\\n",
              "0        True       True   False  False   False     True    False  False   \n",
              "1        True       True   False   True   False    False    False  False   \n",
              "2        True      False   False   True   False    False    False  False   \n",
              "3        True       True   False  False   False    False    False  False   \n",
              "4        True       True   False  False   False    False    False  False   \n",
              "...       ...        ...     ...    ...     ...      ...      ...    ...   \n",
              "20800   False      False   False  False   False    False    False  False   \n",
              "20801   False      False   False  False   False    False    False  False   \n",
              "20802   False      False   False  False   False    False    False  False   \n",
              "20803   False      False   False  False   False    False    False  False   \n",
              "20804   False      False   False  False   False    False    False  False   \n",
              "\n",
              "       Thriller  \n",
              "0         False  \n",
              "1         False  \n",
              "2         False  \n",
              "3         False  \n",
              "4         False  \n",
              "...         ...  \n",
              "20800      True  \n",
              "20801      True  \n",
              "20802      True  \n",
              "20803      True  \n",
              "20804      True  \n",
              "\n",
              "[20803 rows x 16 columns]"
            ]
          },
          "execution_count": 25,
          "metadata": {},
          "output_type": "execute_result"
        }
      ],
      "source": [
        "df.columns = ['name', 'url', 'year', 'certificate', 'rating', 'votes',\n",
        "       'plotSummary', 'Action', 'Adventure', 'Comedy', 'Crime', 'Family',\n",
        "       'Fantasy', 'Mystery', 'SciFi', 'Thriller']\n",
        "df"
      ]
    },
    {
      "cell_type": "markdown",
      "metadata": {},
      "source": [
        "I didn't like having an unnamed column so I got rid of it. I also changed the titles so that they fit the same naming convention. I also removed spaces."
      ]
    },
    {
      "cell_type": "markdown",
      "metadata": {},
      "source": [
        "## 7. Fix Nulls"
      ]
    },
    {
      "cell_type": "code",
      "execution_count": 26,
      "metadata": {},
      "outputs": [
        {
          "data": {
            "text/plain": [
              "<bound method DataFrame.info of                                       name  \\\n",
              "0                               Spider-Man   \n",
              "1                   Red Dead Redemption II   \n",
              "2                       Grand Theft Auto V   \n",
              "3                               God of War   \n",
              "4               Uncharted 4: A Thief's End   \n",
              "...                                    ...   \n",
              "20800  Enjoy Your Power, Enjoy Your Choice   \n",
              "20801                           RedSun2020   \n",
              "20802                              Shutter   \n",
              "20803                    The Music Machine   \n",
              "20804                              Cryptic   \n",
              "\n",
              "                                                     url    year certificate  \\\n",
              "0      https://www.imdb.com/title/tt5807780/?ref_=adv...  2018.0           T   \n",
              "1      https://www.imdb.com/title/tt6161168/?ref_=adv...  2018.0           M   \n",
              "2      https://www.imdb.com/title/tt2103188/?ref_=adv...  2013.0           M   \n",
              "3      https://www.imdb.com/title/tt5838588/?ref_=adv...  2018.0           M   \n",
              "4      https://www.imdb.com/title/tt3334704/?ref_=adv...  2016.0           T   \n",
              "...                                                  ...     ...         ...   \n",
              "20800  https://www.imdb.com/title/tt3845606/?ref_=adv...  2014.0         NaN   \n",
              "20801  https://www.imdb.com/title/tt0790739/?ref_=adv...  2004.0         NaN   \n",
              "20802  https://www.imdb.com/title/tt5119948/?ref_=adv...  2015.0         NaN   \n",
              "20803  https://www.imdb.com/title/tt5142082/?ref_=adv...  2015.0         NaN   \n",
              "20804  https://www.imdb.com/title/tt10964974/?ref_=ad...  2020.0         NaN   \n",
              "\n",
              "       rating   votes                                        plotSummary  \\\n",
              "0         9.2  20,759  When a new villain threatens New York City, Pe...   \n",
              "1         9.7  35,703  Amidst the decline of the Wild West at the tur...   \n",
              "2         9.5  59,986  Three very different criminals team up for a s...   \n",
              "3         9.6  26,118  After wiping out the gods of Mount Olympus, Kr...   \n",
              "4         9.5  28,722  Thrown back into the dangerous underworld he'd...   \n",
              "...       ...     ...                                                ...   \n",
              "20800     NaN     NaN                                         Add a Plot   \n",
              "20801     NaN     NaN  Joseph gets kidnapped and it's the player's jo...   \n",
              "20802     NaN     NaN  A tech support man who uses a drone to investi...   \n",
              "20803     NaN     NaN  A young teenage girl and the ghost of a dead m...   \n",
              "20804     NaN     NaN  Kidnapped by an insane man and dragged into a ...   \n",
              "\n",
              "       Action  Adventure  Comedy  Crime  Family  Fantasy  Mystery  SciFi  \\\n",
              "0        True       True   False  False   False     True    False  False   \n",
              "1        True       True   False   True   False    False    False  False   \n",
              "2        True      False   False   True   False    False    False  False   \n",
              "3        True       True   False  False   False    False    False  False   \n",
              "4        True       True   False  False   False    False    False  False   \n",
              "...       ...        ...     ...    ...     ...      ...      ...    ...   \n",
              "20800   False      False   False  False   False    False    False  False   \n",
              "20801   False      False   False  False   False    False    False  False   \n",
              "20802   False      False   False  False   False    False    False  False   \n",
              "20803   False      False   False  False   False    False    False  False   \n",
              "20804   False      False   False  False   False    False    False  False   \n",
              "\n",
              "       Thriller  \n",
              "0         False  \n",
              "1         False  \n",
              "2         False  \n",
              "3         False  \n",
              "4         False  \n",
              "...         ...  \n",
              "20800      True  \n",
              "20801      True  \n",
              "20802      True  \n",
              "20803      True  \n",
              "20804      True  \n",
              "\n",
              "[20803 rows x 16 columns]>"
            ]
          },
          "execution_count": 26,
          "metadata": {},
          "output_type": "execute_result"
        }
      ],
      "source": [
        "df.info"
      ]
    },
    {
      "cell_type": "code",
      "execution_count": 72,
      "metadata": {},
      "outputs": [],
      "source": [
        "df.rating.fillna(0, inplace=True)"
      ]
    },
    {
      "cell_type": "code",
      "execution_count": 38,
      "metadata": {},
      "outputs": [],
      "source": [
        "df.certificate.fillna('', inplace=True)"
      ]
    },
    {
      "cell_type": "code",
      "execution_count": 39,
      "metadata": {},
      "outputs": [],
      "source": [
        "df.votes.fillna(0, inplace=True)"
      ]
    },
    {
      "cell_type": "markdown",
      "metadata": {},
      "source": [
        "I decided to replace the ratings with a value of NaN with 0 as I still wanted to be able to use specific commands should the need arise. The certificate did not seem as important, so i just left it blank. I replaced the NaN values in votes with 0 as it seemed appropriate."
      ]
    },
    {
      "cell_type": "markdown",
      "metadata": {
        "id": "f0KI193RuKht"
      },
      "source": [
        "## 8. Summarize Categorical Columns"
      ]
    },
    {
      "cell_type": "code",
      "execution_count": 69,
      "metadata": {},
      "outputs": [
        {
          "data": {
            "text/plain": [
              "rating\n",
              "0.0    9203\n",
              "7.4     493\n",
              "7.5     470\n",
              "7.6     452\n",
              "7.2     450\n",
              "       ... \n",
              "2.0       4\n",
              "1.3       3\n",
              "1.5       3\n",
              "1.4       1\n",
              "1.0       1\n",
              "Length: 87, dtype: int64"
            ]
          },
          "execution_count": 69,
          "metadata": {},
          "output_type": "execute_result"
        }
      ],
      "source": [
        "df.value_counts(df.rating)"
      ]
    },
    {
      "cell_type": "code",
      "execution_count": 70,
      "metadata": {},
      "outputs": [
        {
          "data": {
            "text/plain": [
              "votes\n",
              "0        9203\n",
              "7         318\n",
              "9         295\n",
              "8         294\n",
              "10        287\n",
              "         ... \n",
              "1,347       1\n",
              "1,352       1\n",
              "1,357       1\n",
              "1,358       1\n",
              "3,117       1\n",
              "Length: 1906, dtype: int64"
            ]
          },
          "execution_count": 70,
          "metadata": {},
          "output_type": "execute_result"
        }
      ],
      "source": [
        "df.value_counts(df.votes)"
      ]
    },
    {
      "cell_type": "code",
      "execution_count": 71,
      "metadata": {},
      "outputs": [
        {
          "data": {
            "text/plain": [
              "year\n",
              "2019.0    956\n",
              "2018.0    872\n",
              "2017.0    863\n",
              "2016.0    828\n",
              "2015.0    761\n",
              "         ... \n",
              "1970.0      2\n",
              "1969.0      2\n",
              "1952.0      1\n",
              "1964.0      1\n",
              "2027.0      1\n",
              "Length: 61, dtype: int64"
            ]
          },
          "execution_count": 71,
          "metadata": {},
          "output_type": "execute_result"
        }
      ],
      "source": [
        "df.value_counts(df.year)"
      ]
    },
    {
      "cell_type": "code",
      "execution_count": 49,
      "metadata": {},
      "outputs": [
        {
          "data": {
            "text/plain": [
              "Action\n",
              "True     11930\n",
              "False     8873\n",
              "dtype: int64"
            ]
          },
          "execution_count": 49,
          "metadata": {},
          "output_type": "execute_result"
        }
      ],
      "source": [
        "df.value_counts(df.Action)"
      ]
    },
    {
      "cell_type": "code",
      "execution_count": 50,
      "metadata": {},
      "outputs": [
        {
          "data": {
            "text/plain": [
              "Adventure\n",
              "False    10469\n",
              "True     10334\n",
              "dtype: int64"
            ]
          },
          "execution_count": 50,
          "metadata": {},
          "output_type": "execute_result"
        }
      ],
      "source": [
        "df.value_counts(df.Adventure)"
      ]
    },
    {
      "cell_type": "code",
      "execution_count": 52,
      "metadata": {},
      "outputs": [
        {
          "data": {
            "text/plain": [
              "Comedy\n",
              "False    19020\n",
              "True      1783\n",
              "dtype: int64"
            ]
          },
          "execution_count": 52,
          "metadata": {},
          "output_type": "execute_result"
        }
      ],
      "source": [
        "df.value_counts(df.Comedy)"
      ]
    },
    {
      "cell_type": "code",
      "execution_count": 53,
      "metadata": {},
      "outputs": [
        {
          "data": {
            "text/plain": [
              "Crime\n",
              "False    19908\n",
              "True       895\n",
              "dtype: int64"
            ]
          },
          "execution_count": 53,
          "metadata": {},
          "output_type": "execute_result"
        }
      ],
      "source": [
        "df.value_counts(df.Crime)"
      ]
    },
    {
      "cell_type": "code",
      "execution_count": 54,
      "metadata": {},
      "outputs": [
        {
          "data": {
            "text/plain": [
              "Family\n",
              "False    17928\n",
              "True      2875\n",
              "dtype: int64"
            ]
          },
          "execution_count": 54,
          "metadata": {},
          "output_type": "execute_result"
        }
      ],
      "source": [
        "df.value_counts(df.Family)"
      ]
    },
    {
      "cell_type": "code",
      "execution_count": 55,
      "metadata": {},
      "outputs": [
        {
          "data": {
            "text/plain": [
              "Fantasy\n",
              "False    16453\n",
              "True      4350\n",
              "dtype: int64"
            ]
          },
          "execution_count": 55,
          "metadata": {},
          "output_type": "execute_result"
        }
      ],
      "source": [
        "df.value_counts(df.Fantasy)"
      ]
    },
    {
      "cell_type": "code",
      "execution_count": 56,
      "metadata": {},
      "outputs": [
        {
          "data": {
            "text/plain": [
              "Mystery\n",
              "False    19618\n",
              "True      1185\n",
              "dtype: int64"
            ]
          },
          "execution_count": 56,
          "metadata": {},
          "output_type": "execute_result"
        }
      ],
      "source": [
        "df.value_counts(df.Mystery)"
      ]
    },
    {
      "cell_type": "code",
      "execution_count": 57,
      "metadata": {},
      "outputs": [
        {
          "data": {
            "text/plain": [
              "SciFi\n",
              "False    17213\n",
              "True      3590\n",
              "dtype: int64"
            ]
          },
          "execution_count": 57,
          "metadata": {},
          "output_type": "execute_result"
        }
      ],
      "source": [
        "df.value_counts(df.SciFi)"
      ]
    },
    {
      "cell_type": "code",
      "execution_count": 58,
      "metadata": {},
      "outputs": [
        {
          "data": {
            "text/plain": [
              "Thriller\n",
              "False    20280\n",
              "True       523\n",
              "dtype: int64"
            ]
          },
          "execution_count": 58,
          "metadata": {},
          "output_type": "execute_result"
        }
      ],
      "source": [
        "df.value_counts(df.Thriller)"
      ]
    },
    {
      "cell_type": "markdown",
      "metadata": {},
      "source": [
        "I wasn't entirely sure what i was supposed to do with this section, so I figured I would get some info that could be useful. Using value_counts, I counted how many times each value in a column appeared for the following columns: rating, votes, year, Action, Adventure, Comedy, Crime, Family, Fantasy, Mystery, SciFi, and Thriller. I thought these columns would be the most useful to use with value_counts."
      ]
    },
    {
      "cell_type": "markdown",
      "metadata": {
        "id": "r1CzPaIEtsA9"
      },
      "source": [
        "## 9. Summarize Numeric Columns"
      ]
    },
    {
      "cell_type": "code",
      "execution_count": 63,
      "metadata": {
        "colab": {
          "base_uri": "https://localhost:8080/"
        },
        "id": "0h3pRK6UlXt2",
        "outputId": "ea447c07-84e8-49ff-a363-1c337072c356"
      },
      "outputs": [
        {
          "data": {
            "text/html": [
              "<div>\n",
              "<style scoped>\n",
              "    .dataframe tbody tr th:only-of-type {\n",
              "        vertical-align: middle;\n",
              "    }\n",
              "\n",
              "    .dataframe tbody tr th {\n",
              "        vertical-align: top;\n",
              "    }\n",
              "\n",
              "    .dataframe thead th {\n",
              "        text-align: right;\n",
              "    }\n",
              "</style>\n",
              "<table border=\"1\" class=\"dataframe\">\n",
              "  <thead>\n",
              "    <tr style=\"text-align: right;\">\n",
              "      <th></th>\n",
              "      <th>year</th>\n",
              "      <th>rating</th>\n",
              "    </tr>\n",
              "  </thead>\n",
              "  <tbody>\n",
              "    <tr>\n",
              "      <th>count</th>\n",
              "      <td>20536.000000</td>\n",
              "      <td>20803.000000</td>\n",
              "    </tr>\n",
              "    <tr>\n",
              "      <th>mean</th>\n",
              "      <td>2005.568611</td>\n",
              "      <td>3.929784</td>\n",
              "    </tr>\n",
              "    <tr>\n",
              "      <th>std</th>\n",
              "      <td>11.846028</td>\n",
              "      <td>3.619858</td>\n",
              "    </tr>\n",
              "    <tr>\n",
              "      <th>min</th>\n",
              "      <td>1952.000000</td>\n",
              "      <td>0.000000</td>\n",
              "    </tr>\n",
              "    <tr>\n",
              "      <th>25%</th>\n",
              "      <td>1997.000000</td>\n",
              "      <td>0.000000</td>\n",
              "    </tr>\n",
              "    <tr>\n",
              "      <th>50%</th>\n",
              "      <td>2008.000000</td>\n",
              "      <td>5.500000</td>\n",
              "    </tr>\n",
              "    <tr>\n",
              "      <th>75%</th>\n",
              "      <td>2016.000000</td>\n",
              "      <td>7.400000</td>\n",
              "    </tr>\n",
              "    <tr>\n",
              "      <th>max</th>\n",
              "      <td>2027.000000</td>\n",
              "      <td>9.700000</td>\n",
              "    </tr>\n",
              "  </tbody>\n",
              "</table>\n",
              "</div>"
            ],
            "text/plain": [
              "               year        rating\n",
              "count  20536.000000  20803.000000\n",
              "mean    2005.568611      3.929784\n",
              "std       11.846028      3.619858\n",
              "min     1952.000000      0.000000\n",
              "25%     1997.000000      0.000000\n",
              "50%     2008.000000      5.500000\n",
              "75%     2016.000000      7.400000\n",
              "max     2027.000000      9.700000"
            ]
          },
          "execution_count": 63,
          "metadata": {},
          "output_type": "execute_result"
        }
      ],
      "source": [
        "df.describe()"
      ]
    },
    {
      "cell_type": "markdown",
      "metadata": {},
      "source": [
        "Same as the assignment above, I wasn't entirely sure what to do, but the describe command return very usable information from the numerical dataframes such as the mean."
      ]
    }
  ],
  "metadata": {
    "colab": {
      "authorship_tag": "ABX9TyPG+ssWMxKywRQDkeiR9E1U",
      "include_colab_link": true,
      "mount_file_id": "1V16IS1TA0CmRy78Zy03QMP9hHtjmYEcW",
      "name": "EDA_10Steps.ipynb",
      "provenance": []
    },
    "kernelspec": {
      "display_name": "Python 3.9.12 ('base')",
      "language": "python",
      "name": "python3"
    },
    "language_info": {
      "codemirror_mode": {
        "name": "ipython",
        "version": 3
      },
      "file_extension": ".py",
      "mimetype": "text/x-python",
      "name": "python",
      "nbconvert_exporter": "python",
      "pygments_lexer": "ipython3",
      "version": "3.9.12"
    },
    "vscode": {
      "interpreter": {
        "hash": "b3b8246b3ad354a5f213208ce6023f082c1e8fc173d2c9adba35c304177e7570"
      }
    }
  },
  "nbformat": 4,
  "nbformat_minor": 0
}
